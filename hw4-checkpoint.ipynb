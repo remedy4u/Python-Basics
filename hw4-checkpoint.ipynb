{
 "cells": [
  {
   "cell_type": "code",
   "execution_count": null,
   "metadata": {},
   "outputs": [],
   "source": [
    "user_width = int(input('Enter width: '))\n",
    "user_length = int(input('Enter length: '))\n",
    "user_height = int(input('Enter height: '))\n",
    "if (user_width<=15 and user_length<=15 and user_height<=15):\n",
    "\n",
    "    print(\"Box #1\")\n",
    "\n",
    "elif (user_width>15 and user_length>15 and user_height>15) or (user_width<=50 and user_length<=50 and user_height<=50):\n",
    "    \n",
    "    print(\"Box #2\")\n",
    "    \n",
    "elif (user_length>200):\n",
    "    \n",
    "    print(\"Ski box\")\n",
    "    \n",
    "else:\n",
    "\n",
    "    print(\"Standart box#3\")\n"
   ]
  },
  {
   "cell_type": "code",
   "execution_count": null,
   "metadata": {},
   "outputs": [],
   "source": []
  },
  {
   "cell_type": "code",
   "execution_count": null,
   "metadata": {},
   "outputs": [],
   "source": []
  },
  {
   "cell_type": "code",
   "execution_count": null,
   "metadata": {},
   "outputs": [],
   "source": []
  }
 ],
 "metadata": {
  "kernelspec": {
   "display_name": "Python 3",
   "language": "python",
   "name": "python3"
  },
  "language_info": {
   "codemirror_mode": {
    "name": "ipython",
    "version": 3
   },
   "file_extension": ".py",
   "mimetype": "text/x-python",
   "name": "python",
   "nbconvert_exporter": "python",
   "pygments_lexer": "ipython3",
   "version": "3.8.3"
  }
 },
 "nbformat": 4,
 "nbformat_minor": 4
}
