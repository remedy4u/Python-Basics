{
 "cells": [
  {
   "cell_type": "code",
   "execution_count": 17,
   "metadata": {},
   "outputs": [
    {
     "name": "stdout",
     "output_type": "stream",
     "text": [
      "Enter 1st phrase:tadada\n",
      "Enter 2nd phrase:tadadadada\n",
      "2nd phrase is longer than 1st\n"
     ]
    }
   ],
   "source": [
    "user_input1 = str(input('Enter 1st phrase:'))\n",
    "user_input2 = str(input('Enter 2nd phrase:'))\n",
    "x = len(user_input1)\n",
    "y = len(user_input2)\n",
    "if x > y:\n",
    "    print('1st phrase is longer than 2nd')\n",
    "elif x < y:\n",
    "    print('2nd phrase is longer than 1st')\n",
    "else:\n",
    "    print('phrases are equal')\n",
    "\n",
    "     \n",
    "        "
   ]
  },
  {
   "cell_type": "code",
   "execution_count": null,
   "metadata": {},
   "outputs": [],
   "source": []
  },
  {
   "cell_type": "code",
   "execution_count": null,
   "metadata": {},
   "outputs": [],
   "source": []
  }
 ],
 "metadata": {
  "kernelspec": {
   "display_name": "Python 3",
   "language": "python",
   "name": "python3"
  },
  "language_info": {
   "codemirror_mode": {
    "name": "ipython",
    "version": 3
   },
   "file_extension": ".py",
   "mimetype": "text/x-python",
   "name": "python",
   "nbconvert_exporter": "python",
   "pygments_lexer": "ipython3",
   "version": "3.8.3"
  }
 },
 "nbformat": 4,
 "nbformat_minor": 4
}
