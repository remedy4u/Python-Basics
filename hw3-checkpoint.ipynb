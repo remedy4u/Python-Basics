{
 "cells": [
  {
   "cell_type": "code",
   "execution_count": 11,
   "metadata": {},
   "outputs": [
    {
     "name": "stdout",
     "output_type": "stream",
     "text": [
      "Enter day of birth: 12\n",
      "Enter month of birth: August\n",
      "Zodiac sign: Leo\n"
     ]
    }
   ],
   "source": [
    "user_input1 = int(input('Enter day of birth: '))\n",
    "user_input2 = (input('Enter month of birth: '))\n",
    "\n",
    "if (user_input1>=21 and user_input1<=31 and user_input2=='March') or( user_input2=='April' and user_input1>=1 and user_input1<=19):\n",
    "\n",
    "   print(\"Zodiac sign: Aries\")\n",
    "\n",
    "elif (user_input1>=20 and user_input1<=30 and user_input2=='April') or( user_input2=='May' and user_input1>=1 and user_input1<=20):\n",
    "\n",
    "   print(\"Zodiac sign: Taurus\")\n",
    "\n",
    "elif (user_input1>=21 and user_input1<=31 and user_input2=='May') or( user_input2=='June' and user_input1>=1 and user_input1<=21):\n",
    "\n",
    "   print(\"Zodiac sign: Gemini\")\n",
    "\n",
    "elif (user_input1>=22 and user_input1<=30 and user_input2=='June') or( user_input2=='July' and user_input1>=1 and user_input1<=22):\n",
    "\n",
    "   print(\"Zodiac sign: Cancer\")\n",
    "\n",
    "elif (user_input1>=23 and user_input1<=31 and user_input2=='July') or( user_input2=='August' and user_input1>=1 and user_input1<=22):\n",
    "\n",
    "   print(\"Zodiac sign: Leo\")\n",
    "\n",
    "elif (date>=23 and date<=31 and user_input2=='August') or( user_input2=='September' and date>=1 and date<=22):\n",
    "\n",
    "   print(\"Zodiac sign: Virgo\")\n",
    "\n",
    "elif (user_input1>=23 and user_input1<=30 and user_input2=='September') or( user_input2=='October' and user_input1>=1 and user_input1<=23):\n",
    "\n",
    "   print(\"Zodiac sign: Libra\")\n",
    "\n",
    "elif (user_input1>=24 and user_input1<=31 and user_input2=='October') or( user_input2=='November' and user_input1>=1 and user_input1<=22):\n",
    "\n",
    "   print(\"Zodiac sign: Scorpio\")\n",
    "\n",
    "elif (user_input1>=23 and user_input1<=30 and user_input2=='November') or( user_input2=='December' and user_input1>=1 and user_input1<=21):\n",
    "\n",
    "   print(\"Zodiac sign: Sagittarius\")\n",
    "\n",
    "elif (user_input1>=22 and user_input1<=31 and user_input2=='December') or( user_input2=='January' and user_input1>=1 and user_input1<=20):\n",
    "\n",
    "   print(\"Zodiac sign: Capricorn\")\n",
    "\n",
    "elif (user_input1>=21 and user_input1<=31 and user_input2=='January') or( user_input2=='February' and user_input1>=1 and user_input1<=18):\n",
    "\n",
    "   print(\"Zodiac sign: Aquarius\")\n",
    "\n",
    "elif (user_input1>=19 and user_input1<=29 and user_input2=='February') or( user_input2=='March' and user_input1>=1 and user_input1<=20):\n",
    "\n",
    "   print(\"Zodiac sign: Pisces\")"
   ]
  },
  {
   "cell_type": "code",
   "execution_count": null,
   "metadata": {},
   "outputs": [],
   "source": []
  },
  {
   "cell_type": "code",
   "execution_count": null,
   "metadata": {},
   "outputs": [],
   "source": []
  }
 ],
 "metadata": {
  "kernelspec": {
   "display_name": "Python 3",
   "language": "python",
   "name": "python3"
  },
  "language_info": {
   "codemirror_mode": {
    "name": "ipython",
    "version": 3
   },
   "file_extension": ".py",
   "mimetype": "text/x-python",
   "name": "python",
   "nbconvert_exporter": "python",
   "pygments_lexer": "ipython3",
   "version": "3.8.3"
  }
 },
 "nbformat": 4,
 "nbformat_minor": 4
}
